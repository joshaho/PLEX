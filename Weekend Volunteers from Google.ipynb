{
 "cells": [
  {
   "cell_type": "code",
   "execution_count": 179,
   "metadata": {
    "collapsed": true
   },
   "outputs": [],
   "source": [
    "import pandas as pd\n",
    "from gspread_pandas import Spread\n",
    "import plotly\n",
    "import plotly.plotly as ply\n",
    "import plotly.figure_factory as ff\n",
    "import plotly.graph_objs as go\n",
    "plotly.tools.set_credentials_file(username='josha.ho', api_key='kCM2QHqGs2XaS6G9U3vp')\n",
    "import datetime"
   ]
  },
  {
   "cell_type": "code",
   "execution_count": 180,
   "metadata": {
    "collapsed": false,
    "scrolled": true
   },
   "outputs": [],
   "source": [
    "#file_name = \"http://www.ats.ucla.edu/stat/data/binary.csv\"\n",
    "#df = pd.read_csv(file_name)\n",
    "\n",
    "# 'Example Spreadsheet' needs to already exist and your user must have access to it\n",
    "spread = Spread('josha', 'PLEX Weekend Volunteers')\n",
    "# This will ask to authenticate if you haven't done so before for 'example_user'\n",
    "\n",
    "# Display available worksheets\n",
    "spread.sheets\n",
    "spread.open_sheet('Master List')\n",
    "\n",
    "# Save DataFrame to worksheet 'New Test Sheet', create it first if it doesn't exist\n",
    "#spread.df_to_sheet(df, index=False, sheet='New Test Sheet', start='A2', replace=True)\n",
    "#spread.update_cells((1,1), (1,2), ['Created by:', spread.email])\n",
    "#print(spread)\n",
    "# <gspread_pandas.client.Spread - User: '<example_user>@gmail.com', Spread: 'Example Spreadsheet', Sheet: 'New Test Sheet'>"
   ]
  },
  {
   "cell_type": "code",
   "execution_count": 201,
   "metadata": {
    "collapsed": false
   },
   "outputs": [],
   "source": [
    "df=spread.sheet_to_df(index=0)\n",
    "df['Start']=pd.to_datetime(df.Start)\n",
    "df['Finish']=pd.to_datetime(df.Finish)\n",
    "dfc=df.sort_values(by=['Start'])\n",
    "dfc=dfc.reset_index()"
   ]
  },
  {
   "cell_type": "markdown",
   "metadata": {},
   "source": [
    "# Overall Gantt "
   ]
  },
  {
   "cell_type": "code",
   "execution_count": 202,
   "metadata": {
    "collapsed": false
   },
   "outputs": [
    {
     "data": {
      "text/html": [
       "<iframe id=\"igraph\" scrolling=\"no\" style=\"border:none;\" seamless=\"seamless\" src=\"https://plot.ly/~josha.ho/23.embed\" height=\"600px\" width=\"900px\"></iframe>"
      ],
      "text/plain": [
       "<plotly.tools.PlotlyDisplay object>"
      ]
     },
     "execution_count": 202,
     "metadata": {},
     "output_type": "execute_result"
    }
   ],
   "source": [
    "fig = ff.create_gantt(dfc, index_col='Team', showgrid_x=True, showgrid_y=True)\n",
    "\n",
    "ply.iplot(fig, filename='PLEX Gantt Chronological', world_readable=True, autosize=False\n",
    "    )"
   ]
  },
  {
   "cell_type": "markdown",
   "metadata": {},
   "source": [
    "# By Team"
   ]
  },
  {
   "cell_type": "code",
   "execution_count": 203,
   "metadata": {
    "collapsed": false
   },
   "outputs": [
    {
     "data": {
      "text/html": [
       "<iframe id=\"igraph\" scrolling=\"no\" style=\"border:none;\" seamless=\"seamless\" src=\"https://plot.ly/~josha.ho/25.embed\" height=\"600px\" width=\"900px\"></iframe>"
      ],
      "text/plain": [
       "<plotly.tools.PlotlyDisplay object>"
      ]
     },
     "execution_count": 203,
     "metadata": {},
     "output_type": "execute_result"
    }
   ],
   "source": [
    "dft=df.sort_values(by=['Team'])\n",
    "dft=dft.reset_index()\n",
    "fig = ff.create_gantt(dft, index_col='Team', showgrid_x=True, showgrid_y=True)\n",
    "\n",
    "ply.iplot(fig, filename='PLEX Gantt by Team', world_readable=True, autosize=False\n",
    "    )"
   ]
  },
  {
   "cell_type": "code",
   "execution_count": null,
   "metadata": {
    "collapsed": true
   },
   "outputs": [],
   "source": [
    "\n",
    "fig = ff.create_gantt(dft[dft['Team']=='Safer Spaces'], index_col='Team', showgrid_x=True, showgrid_y=True)\n",
    "\n",
    "ply.iplot(fig, filename='PLEX Safer Spaces Gantt', world_readable=True, autosize=False\n",
    "    )"
   ]
  }
 ],
 "metadata": {
  "kernelspec": {
   "display_name": "Python 3",
   "language": "python",
   "name": "python3"
  },
  "language_info": {
   "codemirror_mode": {
    "name": "ipython",
    "version": 3
   },
   "file_extension": ".py",
   "mimetype": "text/x-python",
   "name": "python",
   "nbconvert_exporter": "python",
   "pygments_lexer": "ipython3",
   "version": "3.6.0"
  }
 },
 "nbformat": 4,
 "nbformat_minor": 2
}
